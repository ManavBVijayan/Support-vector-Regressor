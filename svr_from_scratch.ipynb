{
 "cells": [
  {
   "cell_type": "code",
   "execution_count": 1,
   "id": "00aee45d-ddb4-45ce-aeb4-ccdb3cba5311",
   "metadata": {},
   "outputs": [],
   "source": [
    "import numpy as np"
   ]
  },
  {
   "cell_type": "code",
   "execution_count": 2,
   "id": "f2161122-1258-4fec-b78d-c46a6d80a34a",
   "metadata": {},
   "outputs": [],
   "source": [
    "class SVR:\n",
    "    def __init__(self, epsilon=0.1, C=1.0, kernel='linear', max_iter=1000, learning_rate=0.01):\n",
    "        self.epsilon = epsilon\n",
    "        self.C = C\n",
    "        self.kernel = kernel\n",
    "        self.max_iter = max_iter\n",
    "        self.learning_rate = learning_rate\n",
    "        self.weights = None\n",
    "        self.bias = None\n",
    "\n",
    "    def linear_kernel(self, X1, X2):\n",
    "        return np.dot(X1, X2.T)\n",
    "\n",
    "    def fit(self, X, y):\n",
    "        m, n = X.shape\n",
    "        y = y.reshape(-1, 1)\n",
    "\n",
    "        # Initialize weights and bias\n",
    "        self.weights = np.random.rand(n, 1)\n",
    "        self.bias = np.random.rand(1)\n",
    "\n",
    "        for _ in range(self.max_iter):\n",
    "            # Compute predictions\n",
    "            predictions = np.dot(X, self.weights) + self.bias\n",
    "\n",
    "            # Compute errors\n",
    "            errors = predictions - y\n",
    "\n",
    "            # Compute loss\n",
    "            loss = np.maximum(0, np.abs(errors) - self.epsilon)\n",
    "            total_loss = np.sum(loss)\n",
    "\n",
    "            # Check convergence\n",
    "            if total_loss < self.C:\n",
    "                break\n",
    "\n",
    "            # Compute gradients\n",
    "            grad_weights = np.dot(X.T, np.sign(errors) * ((np.abs(errors) > self.epsilon).astype(int)))\n",
    "            grad_bias = np.sum(np.sign(errors) * ((np.abs(errors) > self.epsilon).astype(int)))\n",
    "\n",
    "            # Update weights and bias\n",
    "            self.weights -= self.learning_rate * (grad_weights + self.C * self.weights)\n",
    "            self.bias -= self.learning_rate * (grad_bias + self.C * self.bias)\n",
    "\n",
    "    def predict(self, X):\n",
    "        return np.dot(X, self.weights) + self.bias"
   ]
  },
  {
   "cell_type": "code",
   "execution_count": 3,
   "id": "d35a3c7e-5aca-4051-9767-814caebdffc3",
   "metadata": {},
   "outputs": [],
   "source": [
    "# Example usage:\n",
    "# Assuming X_train and y_train are your training data\n",
    "X_train = np.array([[1], [2], [3], [4]])\n",
    "y_train = np.array([2, 4, 5, 8])"
   ]
  },
  {
   "cell_type": "code",
   "execution_count": 4,
   "id": "7964f60e-5fc4-4b84-bfb2-05e8d3fc641d",
   "metadata": {},
   "outputs": [],
   "source": [
    "# Instantiate and train the SVR model\n",
    "svr_model = SVR(epsilon=0.1, C=1.0, kernel='linear', max_iter=1000, learning_rate=0.01)\n",
    "svr_model.fit(X_train, y_train)"
   ]
  },
  {
   "cell_type": "code",
   "execution_count": 5,
   "id": "211ece0e-1d4a-4308-b9dd-dfc7cff7cec2",
   "metadata": {},
   "outputs": [],
   "source": [
    "# Make predictions\n",
    "X_test = np.array([[5]])\n",
    "predictions = svr_model.predict(X_test)"
   ]
  },
  {
   "cell_type": "code",
   "execution_count": 6,
   "id": "4af51ccc-a929-4c24-b820-bb359daf824e",
   "metadata": {},
   "outputs": [
    {
     "name": "stdout",
     "output_type": "stream",
     "text": [
      "Predicted value: 9.31464331912512\n"
     ]
    }
   ],
   "source": [
    "print(\"Predicted value:\", predictions[0, 0])"
   ]
  }
 ],
 "metadata": {
  "kernelspec": {
   "display_name": "Python 3 (ipykernel)",
   "language": "python",
   "name": "python3"
  },
  "language_info": {
   "codemirror_mode": {
    "name": "ipython",
    "version": 3
   },
   "file_extension": ".py",
   "mimetype": "text/x-python",
   "name": "python",
   "nbconvert_exporter": "python",
   "pygments_lexer": "ipython3",
   "version": "3.10.9"
  }
 },
 "nbformat": 4,
 "nbformat_minor": 5
}
